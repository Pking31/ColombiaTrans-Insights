{
 "cells": [
  {
   "cell_type": "markdown",
   "metadata": {},
   "source": [
    "#### CARGANDO Y UNIENDO TABLAS"
   ]
  },
  {
   "cell_type": "code",
   "execution_count": null,
   "metadata": {},
   "outputs": [],
   "source": [
    "# descargando base de datos desde la API\n",
    "import pandas as pd\n",
    "from sodapy import Socrata\n",
    "\n",
    "MyAppToken = 'XxPaA2v4nbehTVhbmBwLdHosm'\n",
    "client = Socrata('www.datos.gov.co', app_token=MyAppToken)\n",
    "#configurando paginación\n",
    "offset = 0\n",
    "limit_per_request = 2000000\n",
    "all_results = []\n",
    "total_records = int(client.get(\"eh75-8ah6\", select=\"COUNT(*)\")[0]['COUNT'])\n",
    "client.timeout=50\n",
    "while offset < total_records:\n",
    "    limit_per_request = min(limit_per_request, total_records - offset)\n",
    "    results = client.get(\"eh75-8ah6\", limit=limit_per_request, offset=offset)\n",
    "    all_results.extend(results)\n",
    "    offset += limit_per_request\n",
    "    print(f\"Descargados {len(all_results)} registros hasta ahora\")"
   ]
  },
  {
   "cell_type": "code",
   "execution_count": 4,
   "metadata": {},
   "outputs": [],
   "source": [
    "\n",
    "mitad = total_records // 2\n",
    "\n",
    "# Cargar la primera mitad\n",
    "df_primera_mitad = pd.DataFrame(all_results[:mitad])\n",
    "\n",
    "# Cargar la segunda mitad, saltando los registros ya cargados\n",
    "df_seg_mitad = pd.DataFrame(all_results[mitad:])\n",
    "\n",
    "# Combinar los DataFrames\n",
    "data = pd.concat([df_primera_mitad, df_seg_mitad], ignore_index=True)\n",
    "\n"
   ]
  },
  {
   "cell_type": "code",
   "execution_count": 20,
   "metadata": {},
   "outputs": [],
   "source": [
    "# Cargando dataframe de los municipios \n",
    "df=pd.read_excel('DIVIPOLA_Municipios1.xlsx')"
   ]
  },
  {
   "cell_type": "code",
   "execution_count": 21,
   "metadata": {},
   "outputs": [],
   "source": [
    "\n",
    "data_merged=data.merge(df,left_on='MUNICIPIO_ORIGEN_RUTA',right_on='Código_M') # Uniendo por las columnas en común para obtener municipios de origen\n",
    "df1=data_merged.rename(columns={'Código_D':'CÓDIGO_DEP_ORIGEN',\t'Departamento':'DEPARTAMENTO_ORIGEN',\t'Código_M':'CÓDIGO_MUN_ORIGEN',\t'Municipio':'MUNICIPIO_ORIGEN'})\n",
    "df2=df1.merge(df,left_on='MUNICIPIO_DESTINO_RUTA',right_on='Código_M')  # Uniendo por las columnas en común para obtener municipios de destino"
   ]
  },
  {
   "cell_type": "code",
   "execution_count": 22,
   "metadata": {},
   "outputs": [],
   "source": [
    "# Renonbrando columnas\n",
    "df_merged=df2.rename(columns={'Código_D':'CÓDIGO_DEP_DESTINO',\t'Departamento':'DEPARTAMENTO_DESTINO',\t'Código_M':'CÓDIGO_MUN_DESTINO',\t'Municipio':'MUNICIPIO_DESTINO'})"
   ]
  },
  {
   "cell_type": "code",
   "execution_count": 23,
   "metadata": {},
   "outputs": [],
   "source": [
    "df=df_merged.drop(columns=['CÓDIGO_DEP_ORIGEN',\n",
    "        'CÓDIGO_MUN_ORIGEN', \n",
    "        'CÓDIGO_DEP_DESTINO',\n",
    "       'CÓDIGO_MUN_DESTINO','MUNICIPIO_ORIGEN_RUTA','MUNICIPIO_DESTINO_RUTA','LATITUD_x','LONGITUD_x','LATITUD_y','LONGITUD_y'])"
   ]
  },
  {
   "cell_type": "code",
   "execution_count": 25,
   "metadata": {},
   "outputs": [
    {
     "data": {
      "text/plain": [
       "(21613532, 12)"
      ]
     },
     "execution_count": 25,
     "metadata": {},
     "output_type": "execute_result"
    }
   ],
   "source": [
    "df.head()"
   ]
  },
  {
   "cell_type": "code",
   "execution_count": 26,
   "metadata": {},
   "outputs": [],
   "source": [
    "#Exportando CSV\n",
    "\n",
    "df.to_csv('dat.csv', index=False)"
   ]
  },
  {
   "cell_type": "markdown",
   "metadata": {},
   "source": [
    "### MANIPULACIÓN DE DATOS Y GENERACIÓN DE TABLAS "
   ]
  },
  {
   "cell_type": "code",
   "execution_count": 27,
   "metadata": {},
   "outputs": [],
   "source": [
    "# Cargando datos\n",
    "import pandas as pd\n",
    "df=pd.read_csv('dat.csv')"
   ]
  },
  {
   "cell_type": "code",
   "execution_count": 28,
   "metadata": {},
   "outputs": [
    {
     "data": {
      "text/html": [
       "<div>\n",
       "<style scoped>\n",
       "    .dataframe tbody tr th:only-of-type {\n",
       "        vertical-align: middle;\n",
       "    }\n",
       "\n",
       "    .dataframe tbody tr th {\n",
       "        vertical-align: top;\n",
       "    }\n",
       "\n",
       "    .dataframe thead th {\n",
       "        text-align: right;\n",
       "    }\n",
       "</style>\n",
       "<table border=\"1\" class=\"dataframe\">\n",
       "  <thead>\n",
       "    <tr style=\"text-align: right;\">\n",
       "      <th></th>\n",
       "      <th>TERMINAL</th>\n",
       "      <th>CLASE_VEHICULO</th>\n",
       "      <th>NIVEL_SERVICIO</th>\n",
       "      <th>FECHA_DESPACHO</th>\n",
       "      <th>HORA_DESPACHO</th>\n",
       "      <th>TIPO_DESPACHO</th>\n",
       "      <th>DESPACHOS</th>\n",
       "      <th>PASAJEROS</th>\n",
       "      <th>DEPARTAMENTO_ORIGEN</th>\n",
       "      <th>MUNICIPIO_ORIGEN</th>\n",
       "      <th>DEPARTAMENTO_DESTINO</th>\n",
       "      <th>MUNICIPIO_DESTINO</th>\n",
       "    </tr>\n",
       "  </thead>\n",
       "  <tbody>\n",
       "    <tr>\n",
       "      <th>0</th>\n",
       "      <td>T.T. DE BOGOTÁ NORTE</td>\n",
       "      <td>MICROBUS</td>\n",
       "      <td>LUJO</td>\n",
       "      <td>03/01/2021 12:00:00 AM</td>\n",
       "      <td>8</td>\n",
       "      <td>TRANSITO</td>\n",
       "      <td>2</td>\n",
       "      <td>0</td>\n",
       "      <td>BOGOTÁ, D.C.</td>\n",
       "      <td>BOGOTÁ, D.C.</td>\n",
       "      <td>BOYACÁ</td>\n",
       "      <td>SOGAMOSO</td>\n",
       "    </tr>\n",
       "    <tr>\n",
       "      <th>1</th>\n",
       "      <td>T.T. DE BOGOTÁ SALITRE</td>\n",
       "      <td>BUS</td>\n",
       "      <td>LUJO</td>\n",
       "      <td>01/29/2021 12:00:00 AM</td>\n",
       "      <td>18</td>\n",
       "      <td>ORIGEN</td>\n",
       "      <td>5</td>\n",
       "      <td>31</td>\n",
       "      <td>BOGOTÁ, D.C.</td>\n",
       "      <td>BOGOTÁ, D.C.</td>\n",
       "      <td>BOYACÁ</td>\n",
       "      <td>SOGAMOSO</td>\n",
       "    </tr>\n",
       "    <tr>\n",
       "      <th>2</th>\n",
       "      <td>T.T. DE BOGOTÁ NORTE</td>\n",
       "      <td>MICROBUS</td>\n",
       "      <td>LUJO</td>\n",
       "      <td>08/11/2021 12:00:00 AM</td>\n",
       "      <td>5</td>\n",
       "      <td>TRANSITO</td>\n",
       "      <td>1</td>\n",
       "      <td>0</td>\n",
       "      <td>BOGOTÁ, D.C.</td>\n",
       "      <td>BOGOTÁ, D.C.</td>\n",
       "      <td>BOYACÁ</td>\n",
       "      <td>SOGAMOSO</td>\n",
       "    </tr>\n",
       "    <tr>\n",
       "      <th>3</th>\n",
       "      <td>T.T. DE BOGOTÁ NORTE</td>\n",
       "      <td>BUS</td>\n",
       "      <td>LUJO</td>\n",
       "      <td>08/14/2021 12:00:00 AM</td>\n",
       "      <td>7</td>\n",
       "      <td>TRANSITO</td>\n",
       "      <td>4</td>\n",
       "      <td>0</td>\n",
       "      <td>BOGOTÁ, D.C.</td>\n",
       "      <td>BOGOTÁ, D.C.</td>\n",
       "      <td>BOYACÁ</td>\n",
       "      <td>SOGAMOSO</td>\n",
       "    </tr>\n",
       "    <tr>\n",
       "      <th>4</th>\n",
       "      <td>T.T. DE BOGOTÁ SALITRE</td>\n",
       "      <td>BUS</td>\n",
       "      <td>LUJO</td>\n",
       "      <td>01/16/2021 12:00:00 AM</td>\n",
       "      <td>15</td>\n",
       "      <td>ORIGEN</td>\n",
       "      <td>4</td>\n",
       "      <td>15</td>\n",
       "      <td>BOGOTÁ, D.C.</td>\n",
       "      <td>BOGOTÁ, D.C.</td>\n",
       "      <td>BOYACÁ</td>\n",
       "      <td>SOGAMOSO</td>\n",
       "    </tr>\n",
       "    <tr>\n",
       "      <th>...</th>\n",
       "      <td>...</td>\n",
       "      <td>...</td>\n",
       "      <td>...</td>\n",
       "      <td>...</td>\n",
       "      <td>...</td>\n",
       "      <td>...</td>\n",
       "      <td>...</td>\n",
       "      <td>...</td>\n",
       "      <td>...</td>\n",
       "      <td>...</td>\n",
       "      <td>...</td>\n",
       "      <td>...</td>\n",
       "    </tr>\n",
       "    <tr>\n",
       "      <th>21613527</th>\n",
       "      <td>T.T. DE YARUMAL</td>\n",
       "      <td>MICROBUS</td>\n",
       "      <td>LUJO</td>\n",
       "      <td>06/12/2023 12:00:00 AM</td>\n",
       "      <td>5</td>\n",
       "      <td>ORIGEN</td>\n",
       "      <td>1</td>\n",
       "      <td>0</td>\n",
       "      <td>ANTIOQUIA</td>\n",
       "      <td>YARUMAL</td>\n",
       "      <td>ANTIOQUIA</td>\n",
       "      <td>BRICEÑO</td>\n",
       "    </tr>\n",
       "    <tr>\n",
       "      <th>21613528</th>\n",
       "      <td>T.T. DE YARUMAL</td>\n",
       "      <td>MICROBUS</td>\n",
       "      <td>LUJO</td>\n",
       "      <td>06/27/2023 12:00:00 AM</td>\n",
       "      <td>12</td>\n",
       "      <td>ORIGEN</td>\n",
       "      <td>1</td>\n",
       "      <td>0</td>\n",
       "      <td>ANTIOQUIA</td>\n",
       "      <td>YARUMAL</td>\n",
       "      <td>ANTIOQUIA</td>\n",
       "      <td>BRICEÑO</td>\n",
       "    </tr>\n",
       "    <tr>\n",
       "      <th>21613529</th>\n",
       "      <td>T.T. DE YARUMAL</td>\n",
       "      <td>MICROBUS</td>\n",
       "      <td>LUJO</td>\n",
       "      <td>06/24/2023 12:00:00 AM</td>\n",
       "      <td>12</td>\n",
       "      <td>ORIGEN</td>\n",
       "      <td>1</td>\n",
       "      <td>0</td>\n",
       "      <td>ANTIOQUIA</td>\n",
       "      <td>YARUMAL</td>\n",
       "      <td>ANTIOQUIA</td>\n",
       "      <td>BRICEÑO</td>\n",
       "    </tr>\n",
       "    <tr>\n",
       "      <th>21613530</th>\n",
       "      <td>T.T. DE YARUMAL</td>\n",
       "      <td>MICROBUS</td>\n",
       "      <td>LUJO</td>\n",
       "      <td>06/11/2023 12:00:00 AM</td>\n",
       "      <td>9</td>\n",
       "      <td>ORIGEN</td>\n",
       "      <td>1</td>\n",
       "      <td>1</td>\n",
       "      <td>ANTIOQUIA</td>\n",
       "      <td>YARUMAL</td>\n",
       "      <td>ANTIOQUIA</td>\n",
       "      <td>BRICEÑO</td>\n",
       "    </tr>\n",
       "    <tr>\n",
       "      <th>21613531</th>\n",
       "      <td>T.T. DE YARUMAL</td>\n",
       "      <td>MICROBUS</td>\n",
       "      <td>LUJO</td>\n",
       "      <td>06/03/2023 12:00:00 AM</td>\n",
       "      <td>13</td>\n",
       "      <td>ORIGEN</td>\n",
       "      <td>1</td>\n",
       "      <td>0</td>\n",
       "      <td>ANTIOQUIA</td>\n",
       "      <td>YARUMAL</td>\n",
       "      <td>ANTIOQUIA</td>\n",
       "      <td>BRICEÑO</td>\n",
       "    </tr>\n",
       "  </tbody>\n",
       "</table>\n",
       "<p>21613532 rows × 12 columns</p>\n",
       "</div>"
      ],
      "text/plain": [
       "                        TERMINAL CLASE_VEHICULO NIVEL_SERVICIO  \\\n",
       "0           T.T. DE BOGOTÁ NORTE       MICROBUS           LUJO   \n",
       "1         T.T. DE BOGOTÁ SALITRE            BUS           LUJO   \n",
       "2           T.T. DE BOGOTÁ NORTE       MICROBUS           LUJO   \n",
       "3           T.T. DE BOGOTÁ NORTE            BUS           LUJO   \n",
       "4         T.T. DE BOGOTÁ SALITRE            BUS           LUJO   \n",
       "...                          ...            ...            ...   \n",
       "21613527         T.T. DE YARUMAL       MICROBUS           LUJO   \n",
       "21613528         T.T. DE YARUMAL       MICROBUS           LUJO   \n",
       "21613529         T.T. DE YARUMAL       MICROBUS           LUJO   \n",
       "21613530         T.T. DE YARUMAL       MICROBUS           LUJO   \n",
       "21613531         T.T. DE YARUMAL       MICROBUS           LUJO   \n",
       "\n",
       "                  FECHA_DESPACHO  HORA_DESPACHO TIPO_DESPACHO  DESPACHOS  \\\n",
       "0         03/01/2021 12:00:00 AM              8      TRANSITO          2   \n",
       "1         01/29/2021 12:00:00 AM             18        ORIGEN          5   \n",
       "2         08/11/2021 12:00:00 AM              5      TRANSITO          1   \n",
       "3         08/14/2021 12:00:00 AM              7      TRANSITO          4   \n",
       "4         01/16/2021 12:00:00 AM             15        ORIGEN          4   \n",
       "...                          ...            ...           ...        ...   \n",
       "21613527  06/12/2023 12:00:00 AM              5        ORIGEN          1   \n",
       "21613528  06/27/2023 12:00:00 AM             12        ORIGEN          1   \n",
       "21613529  06/24/2023 12:00:00 AM             12        ORIGEN          1   \n",
       "21613530  06/11/2023 12:00:00 AM              9        ORIGEN          1   \n",
       "21613531  06/03/2023 12:00:00 AM             13        ORIGEN          1   \n",
       "\n",
       "          PASAJEROS DEPARTAMENTO_ORIGEN MUNICIPIO_ORIGEN DEPARTAMENTO_DESTINO  \\\n",
       "0                 0        BOGOTÁ, D.C.     BOGOTÁ, D.C.               BOYACÁ   \n",
       "1                31        BOGOTÁ, D.C.     BOGOTÁ, D.C.               BOYACÁ   \n",
       "2                 0        BOGOTÁ, D.C.     BOGOTÁ, D.C.               BOYACÁ   \n",
       "3                 0        BOGOTÁ, D.C.     BOGOTÁ, D.C.               BOYACÁ   \n",
       "4                15        BOGOTÁ, D.C.     BOGOTÁ, D.C.               BOYACÁ   \n",
       "...             ...                 ...              ...                  ...   \n",
       "21613527          0           ANTIOQUIA          YARUMAL            ANTIOQUIA   \n",
       "21613528          0           ANTIOQUIA          YARUMAL            ANTIOQUIA   \n",
       "21613529          0           ANTIOQUIA          YARUMAL            ANTIOQUIA   \n",
       "21613530          1           ANTIOQUIA          YARUMAL            ANTIOQUIA   \n",
       "21613531          0           ANTIOQUIA          YARUMAL            ANTIOQUIA   \n",
       "\n",
       "         MUNICIPIO_DESTINO  \n",
       "0                 SOGAMOSO  \n",
       "1                 SOGAMOSO  \n",
       "2                 SOGAMOSO  \n",
       "3                 SOGAMOSO  \n",
       "4                 SOGAMOSO  \n",
       "...                    ...  \n",
       "21613527           BRICEÑO  \n",
       "21613528           BRICEÑO  \n",
       "21613529           BRICEÑO  \n",
       "21613530           BRICEÑO  \n",
       "21613531           BRICEÑO  \n",
       "\n",
       "[21613532 rows x 12 columns]"
      ]
     },
     "execution_count": 28,
     "metadata": {},
     "output_type": "execute_result"
    }
   ],
   "source": [
    "df"
   ]
  },
  {
   "cell_type": "code",
   "execution_count": 5,
   "metadata": {},
   "outputs": [],
   "source": [
    "power_bi=df[df['PASAJEROS']>0]"
   ]
  },
  {
   "cell_type": "code",
   "execution_count": null,
   "metadata": {},
   "outputs": [],
   "source": [
    "power_bi.to_csv('power.csv', index=False)"
   ]
  },
  {
   "cell_type": "code",
   "execution_count": 2,
   "metadata": {},
   "outputs": [
    {
     "data": {
      "text/plain": [
       "(21613532, 12)"
      ]
     },
     "execution_count": 2,
     "metadata": {},
     "output_type": "execute_result"
    }
   ],
   "source": [
    "df.shape "
   ]
  },
  {
   "cell_type": "code",
   "execution_count": null,
   "metadata": {},
   "outputs": [],
   "source": [
    "df.info()"
   ]
  },
  {
   "cell_type": "code",
   "execution_count": null,
   "metadata": {},
   "outputs": [],
   "source": [
    "df.describe()"
   ]
  },
  {
   "cell_type": "code",
   "execution_count": null,
   "metadata": {},
   "outputs": [],
   "source": [
    "df.isna().sum()\n"
   ]
  },
  {
   "cell_type": "code",
   "execution_count": 29,
   "metadata": {},
   "outputs": [
    {
     "name": "stderr",
     "output_type": "stream",
     "text": [
      "C:\\Users\\pedro\\AppData\\Local\\Temp\\ipykernel_18392\\3082314738.py:1: UserWarning: Could not infer format, so each element will be parsed individually, falling back to `dateutil`. To ensure parsing is consistent and as-expected, please specify a format.\n",
      "  df['FECHA_DESPACHO'] = pd.to_datetime(df['FECHA_DESPACHO'], errors='coerce')\n"
     ]
    }
   ],
   "source": [
    "df['FECHA_DESPACHO'] = pd.to_datetime(df['FECHA_DESPACHO'], errors='coerce')\n",
    "\n",
    "df = df.dropna(subset=['FECHA_DESPACHO'])\n",
    "\n",
    "\n"
   ]
  },
  {
   "cell_type": "code",
   "execution_count": 72,
   "metadata": {},
   "outputs": [],
   "source": [
    "# Es importante notar que algunos despachos son realizados sin pasajeros. Por tanto, consideremos una mascara para analizar la situacion que nos compete dados los objetivos\n",
    "despachos_departamentos_por_año = df[df['PASAJEROS']>0].groupby([df['FECHA_DESPACHO'].dt.year.astype(int), 'DEPARTAMENTO_ORIGEN'])['DESPACHOS'].sum().unstack(fill_value=0)\n"
   ]
  },
  {
   "cell_type": "markdown",
   "metadata": {},
   "source": [
    "#### Despachos por departamentos de origen y año"
   ]
  },
  {
   "cell_type": "code",
   "execution_count": 31,
   "metadata": {},
   "outputs": [],
   "source": [
    "despachos_departamentos_por_año=despachos_departamentos_por_año.T.rename_axis('DEPARTAMENTO_ORIGEN - DESPACHOS')"
   ]
  },
  {
   "cell_type": "code",
   "execution_count": null,
   "metadata": {},
   "outputs": [],
   "source": [
    "despachos_departamentos_por_año"
   ]
  },
  {
   "cell_type": "code",
   "execution_count": 62,
   "metadata": {},
   "outputs": [],
   "source": [
    "# Exportando a CSV \n",
    "despachos_departamentos_por_año.to_csv('despachos_departamentos_por_año.csv')"
   ]
  },
  {
   "cell_type": "markdown",
   "metadata": {},
   "source": [
    "#### Crecimiento Anual de Despachos por departamento de origen "
   ]
  },
  {
   "cell_type": "code",
   "execution_count": 78,
   "metadata": {},
   "outputs": [],
   "source": [
    "creci_anual = despachos_departamentos_por_año.pct_change().fillna(0)\n"
   ]
  },
  {
   "cell_type": "code",
   "execution_count": 79,
   "metadata": {},
   "outputs": [],
   "source": [
    "creci_anual=creci_anual.T.drop(columns=[2019]).rename_axis('DEPARTAMENTO_ORIGEN - CRECIMIENTO ANUAL').rename_axis(columns='AÑO')"
   ]
  },
  {
   "cell_type": "code",
   "execution_count": 81,
   "metadata": {},
   "outputs": [],
   "source": [
    "# Exportando a CSV \n",
    "creci_anual.to_csv('creci_anual.csv')"
   ]
  },
  {
   "cell_type": "markdown",
   "metadata": {},
   "source": [
    "#### Despachos por departamento de origen y mes"
   ]
  },
  {
   "cell_type": "code",
   "execution_count": 84,
   "metadata": {},
   "outputs": [],
   "source": [
    "despachos_mensuales_dptos = df[df['PASAJEROS']>0].groupby([df['FECHA_DESPACHO'].dt.month, 'DEPARTAMENTO_ORIGEN'])['DESPACHOS'].sum().unstack(fill_value=0)\n"
   ]
  },
  {
   "cell_type": "code",
   "execution_count": 85,
   "metadata": {},
   "outputs": [],
   "source": [
    "despachos_mensuales_dptos = despachos_mensuales_dptos.T.rename_axis('DEPARTAMENTO_ORIGEN - DESPACHOS').rename_axis(columns='MES')\n"
   ]
  },
  {
   "cell_type": "code",
   "execution_count": 87,
   "metadata": {},
   "outputs": [],
   "source": [
    "# Exportando a CSV \n",
    "despachos_mensuales_dptos.to_csv('despachos_mensuales_dptos.csv')"
   ]
  },
  {
   "cell_type": "markdown",
   "metadata": {},
   "source": [
    "#### Rutas más populares "
   ]
  },
  {
   "cell_type": "code",
   "execution_count": 91,
   "metadata": {},
   "outputs": [],
   "source": [
    "# tabla de rutas y número de pasajeros\n",
    "ruta_pasajeros = df[df['PASAJEROS']>0].groupby(['MUNICIPIO_ORIGEN', 'MUNICIPIO_DESTINO'])['PASAJEROS'].sum().reset_index()\n",
    "\n",
    "# Despachos por ruta\n",
    "despachos_por_ruta = df[df['PASAJEROS']>0].groupby(['MUNICIPIO_ORIGEN', 'MUNICIPIO_DESTINO'])['DESPACHOS'].sum().reset_index()\n",
    "\n",
    "# Combinar los DataFrames ruta_pasajeros y despachos_por_ruta\n",
    "ruta_pasajeros = ruta_pasajeros.merge(despachos_por_ruta, on=['MUNICIPIO_ORIGEN', 'MUNICIPIO_DESTINO'])\n",
    "\n",
    "# Renombrar la columna de 'DESPACHOS'\n",
    "ruta_pasajeros.rename(columns={'DESPACHOS_x': 'PASAJEROS', 'DESPACHOS_y': 'DESPACHOS'}, inplace=True)"
   ]
  },
  {
   "cell_type": "code",
   "execution_count": 92,
   "metadata": {},
   "outputs": [],
   "source": [
    "#Crear la columna RUTA\n",
    "ruta_pasajeros['RUTA'] = ruta_pasajeros['MUNICIPIO_ORIGEN'] + ' - ' + ruta_pasajeros['MUNICIPIO_DESTINO']\n",
    "# Eliminar las columnas 'MUNICIPIO_ORIGEN' y 'MUNICIPIO_DESTINO' \n",
    "ruta_pasajeros.drop(['MUNICIPIO_ORIGEN', 'MUNICIPIO_DESTINO'], axis=1, inplace=True)\n",
    "ruta_pasajeros = ruta_pasajeros[['RUTA', 'PASAJEROS', 'DESPACHOS']]\n"
   ]
  },
  {
   "cell_type": "code",
   "execution_count": 93,
   "metadata": {},
   "outputs": [],
   "source": [
    "rutas_populares=ruta_pasajeros.sort_values(ascending=False,by=['PASAJEROS','DESPACHOS'])"
   ]
  },
  {
   "cell_type": "code",
   "execution_count": 7,
   "metadata": {},
   "outputs": [],
   "source": [
    "# Exportando CSV\n",
    "rutas_populares\n",
    "rutas_populares.to_csv('rutas_populares.csv')"
   ]
  },
  {
   "cell_type": "markdown",
   "metadata": {},
   "source": [
    "#### Rutas con más despachos"
   ]
  },
  {
   "cell_type": "code",
   "execution_count": 94,
   "metadata": {},
   "outputs": [],
   "source": [
    "rutas_mas_despachos=ruta_pasajeros.sort_values(ascending=False,by=['DESPACHOS','PASAJEROS'])"
   ]
  },
  {
   "cell_type": "code",
   "execution_count": 96,
   "metadata": {},
   "outputs": [],
   "source": [
    "rutas_mas_despachos.to_csv('rutas_mas_despachos.csv')"
   ]
  },
  {
   "cell_type": "markdown",
   "metadata": {},
   "source": [
    "#### Promedio Pasajeros por clase"
   ]
  },
  {
   "cell_type": "code",
   "execution_count": 97,
   "metadata": {},
   "outputs": [],
   "source": [
    "tabla_pasajeros_por_clase = df[df['PASAJEROS']>0].groupby('CLASE_VEHICULO')['PASAJEROS'].mean().reset_index()\n",
    "tabla_pasajeros_por_clase.columns = ['Clase de Vehículo', 'Promedio de Pasajeros']"
   ]
  },
  {
   "cell_type": "code",
   "execution_count": 98,
   "metadata": {},
   "outputs": [
    {
     "data": {
      "text/html": [
       "<div>\n",
       "<style scoped>\n",
       "    .dataframe tbody tr th:only-of-type {\n",
       "        vertical-align: middle;\n",
       "    }\n",
       "\n",
       "    .dataframe tbody tr th {\n",
       "        vertical-align: top;\n",
       "    }\n",
       "\n",
       "    .dataframe thead th {\n",
       "        text-align: right;\n",
       "    }\n",
       "</style>\n",
       "<table border=\"1\" class=\"dataframe\">\n",
       "  <thead>\n",
       "    <tr style=\"text-align: right;\">\n",
       "      <th></th>\n",
       "      <th>Clase de Vehículo</th>\n",
       "      <th>Promedio de Pasajeros</th>\n",
       "    </tr>\n",
       "  </thead>\n",
       "  <tbody>\n",
       "    <tr>\n",
       "      <th>0</th>\n",
       "      <td>AUTOMOVIL</td>\n",
       "      <td>6.338460</td>\n",
       "    </tr>\n",
       "    <tr>\n",
       "      <th>1</th>\n",
       "      <td>BUS</td>\n",
       "      <td>20.807416</td>\n",
       "    </tr>\n",
       "    <tr>\n",
       "      <th>2</th>\n",
       "      <td>BUSETA</td>\n",
       "      <td>13.846481</td>\n",
       "    </tr>\n",
       "    <tr>\n",
       "      <th>3</th>\n",
       "      <td>CAMIONETA</td>\n",
       "      <td>10.062529</td>\n",
       "    </tr>\n",
       "    <tr>\n",
       "      <th>4</th>\n",
       "      <td>CAMPERO</td>\n",
       "      <td>13.618815</td>\n",
       "    </tr>\n",
       "    <tr>\n",
       "      <th>5</th>\n",
       "      <td>MICROBUS</td>\n",
       "      <td>18.350750</td>\n",
       "    </tr>\n",
       "  </tbody>\n",
       "</table>\n",
       "</div>"
      ],
      "text/plain": [
       "  Clase de Vehículo  Promedio de Pasajeros\n",
       "0         AUTOMOVIL               6.338460\n",
       "1               BUS              20.807416\n",
       "2            BUSETA              13.846481\n",
       "3         CAMIONETA              10.062529\n",
       "4           CAMPERO              13.618815\n",
       "5          MICROBUS              18.350750"
      ]
     },
     "execution_count": 98,
     "metadata": {},
     "output_type": "execute_result"
    }
   ],
   "source": [
    "tabla_pasajeros_por_clase"
   ]
  },
  {
   "cell_type": "code",
   "execution_count": 99,
   "metadata": {},
   "outputs": [],
   "source": [
    "tabla_pasajeros_por_clase.to_csv('tabla_pasajeros_por_clase.csv', index=False)"
   ]
  },
  {
   "cell_type": "markdown",
   "metadata": {},
   "source": [
    "#### Despachos por dia "
   ]
  },
  {
   "cell_type": "code",
   "execution_count": 100,
   "metadata": {},
   "outputs": [],
   "source": [
    "# Tabla Despachos por dias\n",
    "\n",
    "dias_en_espanol = {\n",
    "    'Monday': 'Lunes',\n",
    "    'Tuesday': 'Martes',\n",
    "    'Wednesday': 'Miércoles',\n",
    "    'Thursday': 'Jueves',\n",
    "    'Friday': 'Viernes',\n",
    "    'Saturday': 'Sábado',\n",
    "    'Sunday': 'Domingo'\n",
    "}\n",
    "tabla_despachos_dia_semana = df[df['PASAJEROS']>0].groupby(df['FECHA_DESPACHO'].dt.day_name().map(dias_en_espanol))['DESPACHOS'].sum().reset_index()\n",
    "tabla_despachos_dia_semana.columns = ['Día de la Semana', 'Cantidad de Despachos']\n",
    "\n",
    "tabla_despachos_dia_semana=tabla_despachos_dia_semana.sort_values(by='Cantidad de Despachos')\n",
    "\n"
   ]
  },
  {
   "cell_type": "code",
   "execution_count": 103,
   "metadata": {},
   "outputs": [],
   "source": [
    "tabla_despachos_dia_semana.to_csv('tabla_despachos_dia_semana.csv', index=False)"
   ]
  },
  {
   "cell_type": "markdown",
   "metadata": {},
   "source": [
    "#### Pasajeros por dia"
   ]
  },
  {
   "cell_type": "code",
   "execution_count": 107,
   "metadata": {},
   "outputs": [],
   "source": [
    "\n",
    "dias_en_espanol = {\n",
    "    'Monday': 'Lunes',\n",
    "    'Tuesday': 'Martes',\n",
    "    'Wednesday': 'Miércoles',\n",
    "    'Thursday': 'Jueves',\n",
    "    'Friday': 'Viernes',\n",
    "    'Saturday': 'Sábado',\n",
    "    'Sunday': 'Domingo'\n",
    "}\n",
    "tabla_pasajeros_dia_semana = df[df['PASAJEROS']>0].groupby(df['FECHA_DESPACHO'].dt.day_name().map(dias_en_espanol))['PASAJEROS'].sum().reset_index()\n",
    "tabla_pasajeros_dia_semana.columns = ['Día de la Semana', 'Cantidad de pasajeros']"
   ]
  },
  {
   "cell_type": "code",
   "execution_count": 109,
   "metadata": {},
   "outputs": [],
   "source": [
    "tabla_pasajeros_dia_semana=tabla_pasajeros_dia_semana.sort_values(ascending=False, by='Cantidad de pasajeros')"
   ]
  },
  {
   "cell_type": "code",
   "execution_count": 111,
   "metadata": {},
   "outputs": [],
   "source": [
    "tabla_pasajeros_dia_semana.to_csv('tabla_pasajeros_dia_semana.csv', index=False)"
   ]
  },
  {
   "cell_type": "markdown",
   "metadata": {},
   "source": [
    "#### Hora de despacho y cantidad de pasajeros"
   ]
  },
  {
   "cell_type": "code",
   "execution_count": 116,
   "metadata": {},
   "outputs": [],
   "source": [
    "# Tabla de Hora de Despacho y Pasajeros\n",
    "tabla_hora_pasajeros = df[df['PASAJEROS']>0].groupby('HORA_DESPACHO')['PASAJEROS'].sum().reset_index()"
   ]
  },
  {
   "cell_type": "code",
   "execution_count": 118,
   "metadata": {},
   "outputs": [],
   "source": [
    "tabla_hora_pasajeros=tabla_hora_pasajeros.sort_values(ascending=False, by='PASAJEROS').reset_index(drop=True)"
   ]
  },
  {
   "cell_type": "code",
   "execution_count": 119,
   "metadata": {},
   "outputs": [],
   "source": [
    "# Exportar a CSV\n",
    "tabla_hora_pasajeros.to_csv('tabla_hora_pasajeros.csv', index=False)"
   ]
  },
  {
   "cell_type": "markdown",
   "metadata": {},
   "source": [
    "#### Mes y cantidad de pasajeros"
   ]
  },
  {
   "cell_type": "code",
   "execution_count": 123,
   "metadata": {},
   "outputs": [],
   "source": [
    "# Tabla de Despachos y Pasajeros por Mes\n",
    "tabla_pasajeros_mes = df[df['PASAJEROS']>0].groupby(df['FECHA_DESPACHO'].dt.month)['PASAJEROS'].sum().reset_index()"
   ]
  },
  {
   "cell_type": "code",
   "execution_count": 124,
   "metadata": {},
   "outputs": [],
   "source": [
    "tabla_pasajeros_mes.columns=['Mes','Pasajeros']"
   ]
  },
  {
   "cell_type": "code",
   "execution_count": 125,
   "metadata": {},
   "outputs": [],
   "source": [
    "tabla_pasajeros_mes=tabla_pasajeros_mes.sort_values(ascending=False,by='Pasajeros')"
   ]
  },
  {
   "cell_type": "code",
   "execution_count": 127,
   "metadata": {},
   "outputs": [],
   "source": [
    "tabla_pasajeros_mes.to_csv('tabla_pasajeros_mes.csv', index=False)"
   ]
  },
  {
   "cell_type": "markdown",
   "metadata": {},
   "source": [
    "#### Nivel de servicio y cantidad de pasajeros"
   ]
  },
  {
   "cell_type": "code",
   "execution_count": 128,
   "metadata": {},
   "outputs": [],
   "source": [
    "tabla_nivel_servicio_por_pasajeros = df[df['PASAJEROS']>0].groupby(['NIVEL_SERVICIO'])['PASAJEROS'].sum().reset_index()"
   ]
  },
  {
   "cell_type": "code",
   "execution_count": 130,
   "metadata": {},
   "outputs": [],
   "source": [
    "tabla_nivel_servicio_por_pasajeros=tabla_nivel_servicio_por_pasajeros.sort_values(ascending=False,by='PASAJEROS')"
   ]
  },
  {
   "cell_type": "code",
   "execution_count": 131,
   "metadata": {},
   "outputs": [],
   "source": [
    "tabla_nivel_servicio_por_pasajeros.to_csv('tabla_nivel_servicio_por_pasajeros.csv', index=False)"
   ]
  },
  {
   "cell_type": "markdown",
   "metadata": {},
   "source": [
    "#### TIPO DE VEHÍCULO"
   ]
  },
  {
   "cell_type": "code",
   "execution_count": 143,
   "metadata": {},
   "outputs": [],
   "source": [
    "pasajeros_por_tipo_vehi = df.groupby('CLASE_VEHICULO')['PASAJEROS'].sum()\n",
    "\n",
    "pasajeros_por_tipo_vehi = pasajeros_por_tipo_vehi.sort_values(ascending=False)\n",
    "df_pasajeros_por_tipo = pd.DataFrame(pasajeros_por_tipo_vehi)\n",
    "\n",
    "# Renombrar la columna\n",
    "df_pasajeros_por_tipo.rename(columns={'PASAJEROS': 'Total_Pasajeros'}, inplace=True)"
   ]
  },
  {
   "cell_type": "code",
   "execution_count": 151,
   "metadata": {},
   "outputs": [],
   "source": [
    "df_pasajeros_por_tipo.to_csv('df_pasajeros_por_tipo.csv')"
   ]
  }
 ],
 "metadata": {
  "kernelspec": {
   "display_name": "Python 3",
   "language": "python",
   "name": "python3"
  },
  "language_info": {
   "codemirror_mode": {
    "name": "ipython",
    "version": 3
   },
   "file_extension": ".py",
   "mimetype": "text/x-python",
   "name": "python",
   "nbconvert_exporter": "python",
   "pygments_lexer": "ipython3",
   "version": "3.11.4"
  },
  "orig_nbformat": 4
 },
 "nbformat": 4,
 "nbformat_minor": 2
}
